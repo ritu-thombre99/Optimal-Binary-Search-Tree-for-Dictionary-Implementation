{
 "cells": [
  {
   "cell_type": "markdown",
   "metadata": {},
   "source": [
    "# Dictionary Implementation using Optimal Binary Search tree"
   ]
  },
  {
   "cell_type": "markdown",
   "metadata": {},
   "source": [
    "## 1. Node class which is used to create binary tree"
   ]
  },
  {
   "cell_type": "code",
   "execution_count": 192,
   "metadata": {},
   "outputs": [],
   "source": [
    "class Node:\n",
    "    def __init__(self, data):\n",
    "        self.left = None\n",
    "        self.right = None\n",
    "        self.data = data"
   ]
  },
  {
   "cell_type": "markdown",
   "metadata": {},
   "source": [
    "## 2. Function to print Level Order Traversal of OBST"
   ]
  },
  {
   "cell_type": "code",
   "execution_count": 193,
   "metadata": {},
   "outputs": [],
   "source": [
    "def height(node): \n",
    "    if node is None: \n",
    "        return 0 \n",
    "    else : \n",
    "        # Compute the height of each subtree  \n",
    "        lheight = height(node.left) \n",
    "        rheight = height(node.right) \n",
    "  \n",
    "        #Use the larger one \n",
    "        if lheight > rheight : \n",
    "            return lheight+1\n",
    "        else: \n",
    "            return rheight+1\n",
    "        \n",
    "def printLevelOrder(root): \n",
    "    h = height(root) \n",
    "    for i in range(1, h+1): \n",
    "        print('-------------------------------------------------------------------------------------------------------------------------------')\n",
    "        x=[]\n",
    "        print(\"Level:\",i)\n",
    "        printGivenLevel(root, i,x) \n",
    "        print(x)\n",
    "    print('-------------------------------------------------------------------------------------------------------------------------------')\n",
    "  \n",
    "  \n",
    "# Print nodes at a given level \n",
    "def printGivenLevel(root , level,x): \n",
    "    if root is None: \n",
    "        return\n",
    "    if level == 1: \n",
    "        x.append(root.data) \n",
    "    elif level > 1 : \n",
    "        printGivenLevel(root.left , level-1,x) \n",
    "        printGivenLevel(root.right , level-1,x)"
   ]
  },
  {
   "cell_type": "markdown",
   "metadata": {},
   "source": [
    "## 3. Function to return Level where search_word from user was found in OBST"
   ]
  },
  {
   "cell_type": "code",
   "execution_count": 194,
   "metadata": {},
   "outputs": [],
   "source": [
    "def getLevelUtil(node, data, level): \n",
    "    if (node == None): \n",
    "        return 0\n",
    "  \n",
    "    if (node.data == data) : \n",
    "        return level  \n",
    "  \n",
    "    downlevel = getLevelUtil(node.left, data, level + 1)  \n",
    "    if (downlevel != 0) : \n",
    "        return downlevel  \n",
    "  \n",
    "    downlevel = getLevelUtil(node.right, data, level + 1)  \n",
    "    return downlevel  \n",
    "  \n",
    "def getLevel(node, data) : \n",
    "    return getLevelUtil(node, data, 1)  "
   ]
  },
  {
   "cell_type": "markdown",
   "metadata": {},
   "source": [
    "## 4. Calculation of (term,term_frequency) of Input document"
   ]
  },
  {
   "cell_type": "code",
   "execution_count": 195,
   "metadata": {},
   "outputs": [],
   "source": [
    "words = []\n",
    "with open('input_file.txt','r') as file:      \n",
    "    for line in file:     \n",
    "        for word in line.split():   \n",
    "            words.append(word)\n",
    "punctuations = '''!()-[]{};:'\"\\,<>./?@#$%^&*_~1234567890'''\n",
    "dict_list=[]\n",
    "for word in words:\n",
    "    no_punct = \"\"\n",
    "    for char in word:\n",
    "        if char not in punctuations:\n",
    "            no_punct = no_punct + char\n",
    "    if no_punct != \"\":\n",
    "        dict_list.append(no_punct.lower())\n",
    "key = []\n",
    "for word in dict_list:\n",
    "    if word not in key:\n",
    "        key.append(word)\n",
    "freq = []\n",
    "for i in range(len(key)):\n",
    "    freq.append(dict_list.count(key[i]))"
   ]
  },
  {
   "cell_type": "markdown",
   "metadata": {},
   "source": [
    "## 5. Applying DP "
   ]
  },
  {
   "cell_type": "code",
   "execution_count": 196,
   "metadata": {},
   "outputs": [],
   "source": [
    "def summ(P, I, J):\n",
    "    sum_p = 0\n",
    "    for m in range(I, J + 1):\n",
    "        sum_p += P[m][1]\n",
    "    return sum_p"
   ]
  },
  {
   "cell_type": "markdown",
   "metadata": {},
   "source": [
    "+ Array $ A(i,j) $ stores the cost of OBST for $ key(i),key(i+1),key(i+2),....key(j-1),key(j) $\n",
    "+ Array $ R(i,j) $ stores the index of array $ key $ which will act as a root of OBST for $ key(i),key(i+1),key(i+2),....key(j-1),key(j) $"
   ]
  },
  {
   "cell_type": "code",
   "execution_count": 197,
   "metadata": {
    "scrolled": true
   },
   "outputs": [],
   "source": [
    "n = len(key)\n",
    "keys = []\n",
    "\n",
    "for i in range(n):\n",
    "    keys.append((key[i],freq[i]))\n",
    "\n",
    "#sort keys([term,term_frquency]) lexicographically according to term\n",
    "keys.sort(key = lambda x: x[0])\n",
    "R = [[0 for x in range(n + 1)] for y in range(n + 1)]\n",
    "A = [[0 for x in range(n + 1)] for y in range(n + 1)]\n",
    "for i in range(n):\n",
    "    #there are no values of key between (i,i-1)\n",
    "    A[i][i - 1] = 0\n",
    "    R[i][i - 1] = 0\n",
    "    #only one value of key is possible between (i,i)\n",
    "    A[i][i] = keys[i][1]\n",
    "    R[i][i] = i\n",
    "    \n",
    "for diagonal in range(n):\n",
    "    for i in range(n - diagonal):\n",
    "        j = i + diagonal\n",
    "        if i < j:\n",
    "            min_list = []\n",
    "            for k in range(i, j + 1):\n",
    "                # k will act as root of tree for keys from i to j\n",
    "                min_list.append(((A[i][k - 1] + A[k + 1][j]), k))\n",
    "            min_list.sort()\n",
    "            A[i][j] = min_list[0][0] + summ(keys, i, j)\n",
    "            R[i][j] = min_list[0][1]"
   ]
  },
  {
   "cell_type": "markdown",
   "metadata": {},
   "source": [
    "## 6. Function to create OBST using array R"
   ]
  },
  {
   "cell_type": "code",
   "execution_count": 198,
   "metadata": {},
   "outputs": [],
   "source": [
    "def tree(keys, k, i, j):\n",
    "    r = k[i][j]\n",
    "\n",
    "    if i == j:\n",
    "        root = Node(keys[r][0])\n",
    "\n",
    "    else:\n",
    "        root = Node(keys[r][0])\n",
    "        if i <= r - 1:\n",
    "            root.left = tree(keys, k, i, r - 1)\n",
    "        if r + 1 <= j:\n",
    "            root.right = tree(keys, k, r + 1, j)\n",
    "\n",
    "    return root"
   ]
  },
  {
   "cell_type": "code",
   "execution_count": 199,
   "metadata": {},
   "outputs": [
    {
     "name": "stdout",
     "output_type": "stream",
     "text": [
      "Cost of Optimal binary search is 1215\n"
     ]
    }
   ],
   "source": [
    "root = tree(keys, R, 0, n - 1)\n",
    "print('Cost of Optimal binary search is ' + str(A[0][n - 1]))"
   ]
  },
  {
   "cell_type": "markdown",
   "metadata": {},
   "source": [
    "## 7. Printing OBST"
   ]
  },
  {
   "cell_type": "code",
   "execution_count": 200,
   "metadata": {},
   "outputs": [
    {
     "name": "stdout",
     "output_type": "stream",
     "text": [
      "-------------------------------------------------------------------------------------------------------------------------------\n",
      "Level: 1\n",
      "['of']\n",
      "-------------------------------------------------------------------------------------------------------------------------------\n",
      "Level: 2\n",
      "['general', 'the']\n",
      "-------------------------------------------------------------------------------------------------------------------------------\n",
      "Level: 3\n",
      "['consistent', 'is', 'relativity', 'time']\n",
      "-------------------------------------------------------------------------------------------------------------------------------\n",
      "Level: 4\n",
      "['and', 'einstein', 'gravity', 'light', 'quantum', 'space', 'theory', 'unified']\n",
      "-------------------------------------------------------------------------------------------------------------------------------\n",
      "Level: 5\n",
      "['a', 'by', 'description', 'experiments', 'gravitation', 'in', 'known', 'motion', 'physics', 'redshift', 'significantly', 'specified', 'those', 'to', 'with']\n",
      "-------------------------------------------------------------------------------------------------------------------------------\n",
      "Level: 6\n",
      "['all', 'be', 'classical', 'curvature', 'differential', 'equations', 'forces', 'geometric', 'gravitational', 'how', 'include', 'it', 'laws', 'modern', 'nuclear', 'or', 'produce', 'radiation', 'relation', 'remain', 'singularities', 'spacetime', 'such', 'three', 'unanswered', 'weak']\n",
      "-------------------------------------------------------------------------------------------------------------------------------\n",
      "Level: 7\n",
      "['albert', 'also', 'as', 'being', 'can', 'concerning', 'current', 'date', 'differ', 'dimensional', 'electromagnetic', 'examples', 'field', 'free', 'generalizes', 'geometry', 'have', 'however', 'law', 'lensing', 'matter', 'momentum', 'nongravitational', 'observations', 'only', 'particular', 'predictions', 'property', 'questions', 'reconciled', 'refines', 'relativistic', 'self', 'simplest', 'some', 'special', 'strong', 'system', 'universal', 'whatever']\n",
      "-------------------------------------------------------------------------------------------------------------------------------\n",
      "Level: 8\n",
      "['although', 'are', 'been', 'black', 'complete', 'confirmed', 'data', 'delay', 'differences', 'dilation', 'directly', 'energy', 'especially', 'experimental', 'fall', 'force', 'four', 'from', 'holes', 'most', 'newtons', 'not', 'partial', 'passage', 'present', 'propagation', 'providing', 'related', 'that']\n",
      "-------------------------------------------------------------------------------------------------------------------------------\n",
      "Level: 9\n",
      "['bodies', 'fundamental', 'published']\n",
      "-------------------------------------------------------------------------------------------------------------------------------\n"
     ]
    }
   ],
   "source": [
    "printLevelOrder(root)"
   ]
  },
  {
   "cell_type": "markdown",
   "metadata": {},
   "source": [
    "## 8. Finding search_word in OBST"
   ]
  },
  {
   "cell_type": "markdown",
   "metadata": {},
   "source": [
    "### Note : Level of root node is 1"
   ]
  },
  {
   "cell_type": "code",
   "execution_count": 201,
   "metadata": {},
   "outputs": [
    {
     "name": "stdout",
     "output_type": "stream",
     "text": [
      "Enter the keyword to find:relativity\n",
      "relativity found at depth : 3\n"
     ]
    }
   ],
   "source": [
    "search_word = input(\"Enter the keyword to find:\")\n",
    "depth = getLevel(root,search_word)\n",
    "if depth != 0:\n",
    "    print(search_word,\"found at depth :\",depth)\n",
    "else:\n",
    "    print(search_word,\"not found!!\")"
   ]
  },
  {
   "cell_type": "code",
   "execution_count": null,
   "metadata": {},
   "outputs": [],
   "source": []
  }
 ],
 "metadata": {
  "kernelspec": {
   "display_name": "Python 3",
   "language": "python",
   "name": "python3"
  },
  "language_info": {
   "codemirror_mode": {
    "name": "ipython",
    "version": 3
   },
   "file_extension": ".py",
   "mimetype": "text/x-python",
   "name": "python",
   "nbconvert_exporter": "python",
   "pygments_lexer": "ipython3",
   "version": "3.7.6"
  }
 },
 "nbformat": 4,
 "nbformat_minor": 4
}
